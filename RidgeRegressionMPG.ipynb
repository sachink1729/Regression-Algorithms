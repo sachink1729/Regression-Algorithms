{
 "cells": [
  {
   "cell_type": "code",
   "execution_count": 1,
   "metadata": {},
   "outputs": [
    {
     "data": {
      "text/plain": [
       "mpg             float64\n",
       "cylinders         int64\n",
       "displacement    float64\n",
       "horsepower      float64\n",
       "weight            int64\n",
       "acceleration    float64\n",
       "model_year        int64\n",
       "origin            int64\n",
       "name             object\n",
       "dtype: object"
      ]
     },
     "execution_count": 1,
     "metadata": {},
     "output_type": "execute_result"
    }
   ],
   "source": [
    "import numpy as np\n",
    "import pandas as pd\n",
    "\n",
    "df = pd.read_csv(\"mpg.csv\")\n",
    "\n",
    "df.dtypes\n",
    "\n",
    "df.horsepower.unique()  #cleaning of the data, found \"?\" unwanted character in horsepower\n",
    "\n",
    "df=df[df.horsepower !=\"?\"]  #remove unwanted characters\n",
    "\n",
    "df.horsepower.unique()   #cleaned\n",
    "\n",
    "df.horsepower= df.horsepower.astype(float)\n",
    "\n",
    "df.dtypes"
   ]
  },
  {
   "cell_type": "code",
   "execution_count": 4,
   "metadata": {},
   "outputs": [
    {
     "name": "stdout",
     "output_type": "stream",
     "text": [
      "Mean squared error: 6.53\n",
      "R Square score: 0.89\n",
      "Coefficients: \n",
      " [-0.37730066  1.52209833 -0.02231451  0.65798284 -0.08353246]\n",
      "Intercept:\n",
      " -10.04004182088682\n"
     ]
    }
   ],
   "source": [
    "from sklearn.metrics import mean_squared_error,r\n",
    "from sklearn.model_selection import train_test_split\n",
    "df=df\n",
    "training_features = [ 'acceleration','origin','displacement','model_year','horsepower']\n",
    "target = 'mpg'\n",
    "\n",
    "#test train split\n",
    "X_train, X_test, Y_train, Y_test = train_test_split(df[training_features],\n",
    "                                                    df[target],\n",
    "                                                     test_size=0.145, random_state=301)\n",
    "#model creation\n",
    "from sklearn import linear_model\n",
    "\n",
    "model = linear_model.Ridge(alpha=10.0)    # 0 to infinity \n",
    "\n",
    "# if alpha is zero, we'll get linear model\n",
    "#increasing alpha decreases r square since mse increases and the focus shifts on the coefficients\n",
    "#because we are minimizing MSE+alpha(sum of squared coefficients)\n",
    "\n",
    "#model fit\n",
    "model.fit(X_train,Y_train)\n",
    "\n",
    "predicted=model.predict(X_test)\n",
    "print(\"Mean squared error: %.2f\"\n",
    "              % mean_squared_error(Y_test, predicted))\n",
    "print('R Square score: %.2f' % r2_score(Y_test, predicted))\n",
    "\n",
    "print('Coefficients: \\n', model.coef_)\n",
    "print('Intercept:\\n',model.intercept_)\n"
   ]
  },
  {
   "cell_type": "code",
   "execution_count": 5,
   "metadata": {},
   "outputs": [
    {
     "name": "stdout",
     "output_type": "stream",
     "text": [
      "Mean squared error: 6.68\n",
      "R Square score: 0.89\n",
      "Coefficients: \n",
      " [-0.35639938  0.92102996 -0.02751914  0.64282097 -0.07636543]\n",
      "Intercept:\n",
      " -8.00991811677686\n"
     ]
    }
   ],
   "source": [
    "# when alpha=100\n",
    "model = linear_model.Ridge(alpha=100.0)    # 0 to infinity \n",
    "\n",
    "# if alpha is zero, we'll get linear model\n",
    "#increasing alpha decreases r square since mse increases and the focus shifts on the coefficients\n",
    "#because we are minimizing MSE+alpha(sum of squared coefficients)\n",
    "\n",
    "#model fit\n",
    "model.fit(X_train,Y_train)\n",
    "\n",
    "predicted=model.predict(X_test)\n",
    "print(\"Mean squared error: %.2f\"\n",
    "              % mean_squared_error(Y_test, predicted))\n",
    "print('R Square score: %.2f' % r2_score(Y_test, predicted))\n",
    "\n",
    "print('Coefficients: \\n', model.coef_)\n",
    "print('Intercept:\\n',model.intercept_)\n"
   ]
  },
  {
   "cell_type": "code",
   "execution_count": 8,
   "metadata": {
    "scrolled": true
   },
   "outputs": [
    {
     "name": "stdout",
     "output_type": "stream",
     "text": [
      "Mean squared error: 10.34\n",
      "R Square score: 0.83\n",
      "Coefficients: \n",
      " [-0.04024502  0.02068064 -0.03899286  0.1850024  -0.05844629]\n",
      "Intercept:\n",
      " 23.622558988855122\n"
     ]
    }
   ],
   "source": [
    "#when alpha is 10000\n",
    "model = linear_model.Ridge(alpha=10000.0)    # 0 to infinity \n",
    "\n",
    "# if alpha is zero, we'll get linear model\n",
    "#increasing alpha decreases r square since mse increases and the focus shifts on the coefficients\n",
    "#because we are minimizing MSE+alpha(sum of squared coefficients)\n",
    "\n",
    "#model fit\n",
    "model.fit(X_train,Y_train)\n",
    "\n",
    "predicted=model.predict(X_test)\n",
    "print(\"Mean squared error: %.2f\"\n",
    "              % mean_squared_error(Y_test, predicted))\n",
    "print('R Square score: %.2f' % r2_score(Y_test, predicted))\n",
    "\n",
    "print('Coefficients: \\n', model.coef_)\n",
    "print('Intercept:\\n',model.intercept_)\n"
   ]
  },
  {
   "cell_type": "code",
   "execution_count": 9,
   "metadata": {},
   "outputs": [
    {
     "name": "stdout",
     "output_type": "stream",
     "text": [
      "Mean squared error: 13.18\n",
      "R Square score: 0.78\n",
      "Coefficients: \n",
      " [ 0.0004701   0.00036772 -0.04191619  0.00326192 -0.01870197]\n",
      "Intercept:\n",
      " 33.2885811230444\n"
     ]
    }
   ],
   "source": [
    "#when alpha is 1000000\n",
    "model = linear_model.Ridge(alpha=1000000)    # 0 to infinity \n",
    "\n",
    "# if alpha is zero, we'll get linear model\n",
    "#increasing alpha decreases r square since mse increases and the focus shifts on the coefficients\n",
    "#because we are minimizing MSE+alpha(sum of squared coefficients)\n",
    "\n",
    "#model fit\n",
    "model.fit(X_train,Y_train)\n",
    "\n",
    "predicted=model.predict(X_test)\n",
    "print(\"Mean squared error: %.2f\"\n",
    "              % mean_squared_error(Y_test, predicted))\n",
    "print('R Square score: %.2f' % r2_score(Y_test, predicted))\n",
    "\n",
    "print('Coefficients: \\n', model.coef_)\n",
    "print('Intercept:\\n',model.intercept_)\n"
   ]
  },
  {
   "cell_type": "code",
   "execution_count": 10,
   "metadata": {},
   "outputs": [
    {
     "name": "stdout",
     "output_type": "stream",
     "text": [
      "Mean squared error: 58.71\n",
      "R Square score: 0.03\n",
      "Coefficients: \n",
      " [ 2.89250809e-05  1.12423408e-05 -2.00165343e-03  5.36204909e-05\n",
      " -7.28557226e-04]\n",
      "Intercept:\n",
      " 24.105931836276387\n"
     ]
    }
   ],
   "source": [
    "#when alpha is 100000000\n",
    "model = linear_model.Ridge(alpha=100000000)    # 0 to infinity \n",
    "\n",
    "# if alpha is zero, we'll get linear model\n",
    "#increasing alpha decreases r square since mse increases and the focus shifts on the coefficients\n",
    "#because we are minimizing MSE+alpha(sum of squared coefficients)\n",
    "\n",
    "#model fit\n",
    "model.fit(X_train,Y_train)\n",
    "\n",
    "predicted=model.predict(X_test)\n",
    "print(\"Mean squared error: %.2f\"\n",
    "              % mean_squared_error(Y_test, predicted))\n",
    "print('R Square score: %.2f' % r2_score(Y_test, predicted))\n",
    "\n",
    "print('Coefficients: \\n', model.coef_)\n",
    "print('Intercept:\\n',model.intercept_)\n"
   ]
  },
  {
   "cell_type": "code",
   "execution_count": null,
   "metadata": {},
   "outputs": [],
   "source": []
  }
 ],
 "metadata": {
  "kernelspec": {
   "display_name": "Python 3",
   "language": "python",
   "name": "python3"
  },
  "language_info": {
   "codemirror_mode": {
    "name": "ipython",
    "version": 3
   },
   "file_extension": ".py",
   "mimetype": "text/x-python",
   "name": "python",
   "nbconvert_exporter": "python",
   "pygments_lexer": "ipython3",
   "version": "3.8.3"
  }
 },
 "nbformat": 4,
 "nbformat_minor": 4
}
