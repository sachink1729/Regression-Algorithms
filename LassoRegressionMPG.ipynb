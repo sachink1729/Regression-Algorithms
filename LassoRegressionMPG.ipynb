{
 "cells": [
  {
   "cell_type": "code",
   "execution_count": 3,
   "metadata": {},
   "outputs": [
    {
     "data": {
      "text/plain": [
       "mpg             float64\n",
       "cylinders         int64\n",
       "displacement    float64\n",
       "horsepower      float64\n",
       "weight            int64\n",
       "acceleration    float64\n",
       "model_year        int64\n",
       "origin            int64\n",
       "name             object\n",
       "dtype: object"
      ]
     },
     "execution_count": 3,
     "metadata": {},
     "output_type": "execute_result"
    }
   ],
   "source": [
    "import numpy as np\n",
    "import pandas as pd\n",
    "\n",
    "df = pd.read_csv(\"mpg.csv\")\n",
    "\n",
    "df.dtypes\n",
    "\n",
    "df.horsepower.unique()  #cleaning of the data, found \"?\" unwanted character in horsepower\n",
    "\n",
    "df=df[df.horsepower !=\"?\"]  #remove unwanted characters\n",
    "\n",
    "df.horsepower.unique()   #cleaned\n",
    "\n",
    "df.horsepower= df.horsepower.astype(float)\n",
    "\n",
    "df.dtypes"
   ]
  },
  {
   "cell_type": "markdown",
   "metadata": {},
   "source": [
    "# this regression is used to reduce the dimensionality"
   ]
  },
  {
   "cell_type": "code",
   "execution_count": 6,
   "metadata": {},
   "outputs": [
    {
     "name": "stdout",
     "output_type": "stream",
     "text": [
      "Mean squared error: 7.91\n",
      "R Square score: 0.87\n",
      "Coefficients: \n",
      " [-0.11319284  0.         -0.03812964  0.57462605 -0.04964093]\n",
      "Intercept:\n",
      " -5.908427049052328\n"
     ]
    }
   ],
   "source": [
    "from sklearn.metrics import mean_squared_error,r2_score\n",
    "from sklearn.model_selection import train_test_split\n",
    "df=df\n",
    "training_features = [ 'acceleration','origin','displacement','model_year','horsepower']\n",
    "target = 'mpg'\n",
    "\n",
    "#test train split\n",
    "X_train, X_test, Y_train, Y_test = train_test_split(df[training_features],\n",
    "                                                    df[target],\n",
    "                                                     test_size=0.145, random_state=301)\n",
    "#model creation\n",
    "from sklearn import linear_model\n",
    "\n",
    "model = model = linear_model.Lasso(alpha=1.0)   \n",
    "#increase alpha's value to see which predictors are weak more clearly and thus reducing the dimensionality\n",
    "\n",
    "#model fit\n",
    "model.fit(X_train,Y_train)\n",
    "\n",
    "predicted=model.predict(X_test)\n",
    "print(\"Mean squared error: %.2f\"\n",
    "              % mean_squared_error(Y_test, predicted))\n",
    "print('R Square score: %.2f' % r2_score(Y_test, predicted))\n",
    "\n",
    "print('Coefficients: \\n', model.coef_)\n",
    "print('Intercept:\\n',model.intercept_)"
   ]
  },
  {
   "cell_type": "code",
   "execution_count": 7,
   "metadata": {},
   "outputs": [
    {
     "name": "stdout",
     "output_type": "stream",
     "text": [
      "Mean squared error: 9.79\n",
      "R Square score: 0.84\n",
      "Coefficients: \n",
      " [-0.          0.         -0.04147937  0.2414611  -0.04619264]\n",
      "Intercept:\n",
      " 17.93844063663318\n"
     ]
    }
   ],
   "source": [
    "#alpha=5\n",
    "model = model = linear_model.Lasso(alpha=5.0)   \n",
    "#change the alpha's value to see which predictors are weak\n",
    "\n",
    "#model fit\n",
    "model.fit(X_train,Y_train)\n",
    "\n",
    "predicted=model.predict(X_test)\n",
    "print(\"Mean squared error: %.2f\"\n",
    "              % mean_squared_error(Y_test, predicted))\n",
    "print('R Square score: %.2f' % r2_score(Y_test, predicted))\n",
    "\n",
    "print('Coefficients: \\n', model.coef_)\n",
    "print('Intercept:\\n',model.intercept_)"
   ]
  },
  {
   "cell_type": "code",
   "execution_count": null,
   "metadata": {},
   "outputs": [],
   "source": [
    "#after a certain value it will try to diminish all the coefficients and thus its advised to keep alpha's value less than 10"
   ]
  },
  {
   "cell_type": "code",
   "execution_count": 10,
   "metadata": {},
   "outputs": [
    {
     "name": "stdout",
     "output_type": "stream",
     "text": [
      "Mean squared error: 12.35\n",
      "R Square score: 0.80\n",
      "Coefficients: \n",
      " [ 0.          0.         -0.05059499  0.         -0.        ]\n",
      "Intercept:\n",
      " 33.26004107818282\n"
     ]
    }
   ],
   "source": [
    "#alpha=100\n",
    "model = model = linear_model.Lasso(alpha=100)   \n",
    "#change the alpha's value to see which predictors are weak\n",
    "\n",
    "#model fit\n",
    "model.fit(X_train,Y_train)\n",
    "\n",
    "predicted=model.predict(X_test)\n",
    "print(\"Mean squared error: %.2f\"\n",
    "              % mean_squared_error(Y_test, predicted))\n",
    "print('R Square score: %.2f' % r2_score(Y_test, predicted))\n",
    "\n",
    "print('Coefficients: \\n', model.coef_)\n",
    "print('Intercept:\\n',model.intercept_)"
   ]
  },
  {
   "cell_type": "code",
   "execution_count": null,
   "metadata": {},
   "outputs": [],
   "source": []
  }
 ],
 "metadata": {
  "kernelspec": {
   "display_name": "Python 3",
   "language": "python",
   "name": "python3"
  },
  "language_info": {
   "codemirror_mode": {
    "name": "ipython",
    "version": 3
   },
   "file_extension": ".py",
   "mimetype": "text/x-python",
   "name": "python",
   "nbconvert_exporter": "python",
   "pygments_lexer": "ipython3",
   "version": "3.8.3"
  }
 },
 "nbformat": 4,
 "nbformat_minor": 4
}
